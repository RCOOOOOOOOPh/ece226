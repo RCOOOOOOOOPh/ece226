{
 "cells": [
  {
   "cell_type": "code",
   "execution_count": 1,
   "metadata": {},
   "outputs": [
    {
     "name": "stdout",
     "output_type": "stream",
     "text": [
      "cuda\n",
      "1\n",
      "Data(x=[3327, 3703], edge_index=[2, 9104], y=[3327], train_mask=[3327], val_mask=[3327], test_mask=[3327])\n"
     ]
    }
   ],
   "source": [
    "import torch\n",
    "device = torch.device('cuda' if torch.cuda.is_available() else 'cpu')\n",
    "print(device)\n",
    "from torch_geometric.datasets import Planetoid\n",
    "dataset = Planetoid(root='/data/CiteSeer', name='CiteSeer')\n",
    "print(len(dataset))\n",
    "data = dataset[0]\n",
    "data = data.to(device)\n",
    "print(data)"
   ]
  },
  {
   "cell_type": "code",
   "execution_count": 2,
   "metadata": {},
   "outputs": [],
   "source": [
    "import torch.nn.functional as F\n",
    "import nni.retiarii.nn.pytorch as nn\n",
    "from nni.retiarii import model_wrapper"
   ]
  },
  {
   "cell_type": "code",
   "execution_count": 3,
   "metadata": {},
   "outputs": [],
   "source": [
    "class DepthwiseSeparableConv(nn.Module):\n",
    "    def __init__(self, in_ch, out_ch):\n",
    "        super().__init__()\n",
    "        self.depthwise = nn.Conv2d(in_ch, in_ch, kernel_size=3, groups=in_ch)\n",
    "        self.pointwise = nn.Conv2d(in_ch, out_ch, kernel_size=1)\n",
    "\n",
    "    def forward(self, x):\n",
    "        return self.pointwise(self.depthwise(x))\n",
    "\n",
    "\n",
    "@model_wrapper\n",
    "class ModelSpace(nn.Module):\n",
    "    def __init__(self):\n",
    "        super().__init__()\n",
    "        self.conv1 = nn.Conv2d(1, 32, 3, 1)\n",
    "        # LayerChoice is used to select a layer between Conv2d and DwConv.\n",
    "        self.conv2 = nn.LayerChoice([\n",
    "            nn.Conv2d(32, 64, 3, 1),\n",
    "            DepthwiseSeparableConv(32, 64)\n",
    "        ])\n",
    "        # ValueChoice is used to select a dropout rate.\n",
    "        # ValueChoice can be used as parameter of modules wrapped in `nni.retiarii.nn.pytorch`\n",
    "        # or customized modules wrapped with `@basic_unit`.\n",
    "        self.dropout1 = nn.Dropout(nn.ValueChoice([0.25, 0.5, 0.75]))  # choose dropout rate from 0.25, 0.5 and 0.75\n",
    "        self.dropout2 = nn.Dropout(0.5)\n",
    "        feature = nn.ValueChoice([64, 128, 256])\n",
    "        self.fc1 = nn.Linear(9216, feature)\n",
    "        self.fc2 = nn.Linear(feature, 10)\n",
    "\n",
    "    def forward(self, x):\n",
    "        x = F.relu(self.conv1(x))\n",
    "        x = F.max_pool2d(self.conv2(x), 2)\n",
    "        x = torch.flatten(self.dropout1(x), 1)\n",
    "        x = self.fc2(self.dropout2(F.relu(self.fc1(x))))\n",
    "        output = F.log_softmax(x, dim=1)\n",
    "        return output"
   ]
  },
  {
   "cell_type": "code",
   "execution_count": 4,
   "metadata": {},
   "outputs": [
    {
     "name": "stdout",
     "output_type": "stream",
     "text": [
      "ModelSpace(\n",
      "  (conv1): Conv2d(1, 32, kernel_size=(3, 3), stride=(1, 1))\n",
      "  (conv2): LayerChoice([Conv2d(32, 64, kernel_size=(3, 3), stride=(1, 1)), DepthwiseSeparableConv(\n",
      "    (depthwise): Conv2d(32, 32, kernel_size=(3, 3), stride=(1, 1), groups=32)\n",
      "    (pointwise): Conv2d(32, 64, kernel_size=(1, 1), stride=(1, 1))\n",
      "  )], label='model_1')\n",
      "  (dropout1): Dropout(p=0.25, inplace=False)\n",
      "  (dropout2): Dropout(p=0.5, inplace=False)\n",
      "  (fc1): Linear(in_features=9216, out_features=64, bias=True)\n",
      "  (fc2): Linear(in_features=64, out_features=10, bias=True)\n",
      ")\n"
     ]
    }
   ],
   "source": [
    "model_space = ModelSpace()\n",
    "print(model_space)"
   ]
  },
  {
   "cell_type": "code",
   "execution_count": 5,
   "metadata": {},
   "outputs": [],
   "source": [
    "@model_wrapper\n",
    "class MySpace(nn.Module):\n",
    "    def __init__(self, num_node_features, num_classes, hidden=20):\n",
    "        super().__init__()\n",
    "        #self.conv1 = GCNConv(num_node_features, 16)\n",
    "        #self.conv2 = GCNConv(16, num_classes)\n",
    "        self.conv1 = nn.LayerChoice([\n",
    "            nn.GATconv(num_node_features, hidden),\n",
    "            nn.GCNConv(num_node_features, hidden),\n",
    "            nn.GINconv(num_node_features, hidden),\n",
    "            nn.ChebConv(num_node_features, hidden),\n",
    "            nn.SAGEConv(num_node_features, hidden)\n",
    "        ])\n",
    "        self.dropout1 = nn.Dropout(nn.ValueChoice([0.1, 0.25, 0.5, 0.75]))  # choose dropout rate from 0.25, 0.5 and 0.75\n",
    "        self.conv2 = nn.LayerChoice([\n",
    "            nn.GATconv(hidden, num_classes),\n",
    "            nn.GCNConv(hidden, num_classes),\n",
    "            nn.GINconv(hidden, num_classes),\n",
    "            nn.ChebConv(hidden, num_classes),\n",
    "            nn.SAGEConv(hidden, num_classes)\n",
    "        ])\n",
    "        self.dropout2 = nn.Dropout(0.5)\n",
    "\n",
    "    def forward(self, data):\n",
    "        x, edge_index = data.x, data.edge_index\n",
    "        x = self.conv1(x, edge_index)\n",
    "        x = F.relu(x)\n",
    "        x = self.dropout1(x, training=self.training)\n",
    "        x = self.conv2(x, edge_index)\n",
    "        x = F.relu(x)\n",
    "        x = self.dropout2(x, training=self.training)\n",
    "        x = F.softmax(x, dim=1)\n",
    "\n",
    "        return x"
   ]
  },
  {
   "cell_type": "code",
   "execution_count": 6,
   "metadata": {},
   "outputs": [
    {
     "ename": "AttributeError",
     "evalue": "module 'nni.retiarii.nn.pytorch' has no attribute 'GATconv'",
     "output_type": "error",
     "traceback": [
      "\u001b[1;31m---------------------------------------------------------------------------\u001b[0m",
      "\u001b[1;31mAttributeError\u001b[0m                            Traceback (most recent call last)",
      "Cell \u001b[1;32mIn[6], line 1\u001b[0m\n\u001b[1;32m----> 1\u001b[0m my_space \u001b[39m=\u001b[39m MySpace(dataset\u001b[39m.\u001b[39;49mnum_node_features, dataset\u001b[39m.\u001b[39;49mnum_classes)\n\u001b[0;32m      2\u001b[0m \u001b[39mprint\u001b[39m(my_space)\n",
      "File \u001b[1;32md:\\ProgramData\\Anaconda3\\envs\\mydl\\Lib\\site-packages\\nni\\nas\\utils\\serializer.py:125\u001b[0m, in \u001b[0;36mmodel_wrapper.<locals>.reset_wrapper.__init__\u001b[1;34m(self, *args, **kwargs)\u001b[0m\n\u001b[0;32m    123\u001b[0m \u001b[39mself\u001b[39m\u001b[39m.\u001b[39m_model_namespace \u001b[39m=\u001b[39m ModelNamespace()\n\u001b[0;32m    124\u001b[0m \u001b[39mwith\u001b[39;00m \u001b[39mself\u001b[39m\u001b[39m.\u001b[39m_model_namespace:\n\u001b[1;32m--> 125\u001b[0m     \u001b[39msuper\u001b[39;49m()\u001b[39m.\u001b[39;49m\u001b[39m__init__\u001b[39;49m(\u001b[39m*\u001b[39;49margs, \u001b[39m*\u001b[39;49m\u001b[39m*\u001b[39;49mkwargs)\n",
      "File \u001b[1;32md:\\ProgramData\\Anaconda3\\envs\\mydl\\Lib\\site-packages\\nni\\common\\serializer.py:470\u001b[0m, in \u001b[0;36m_trace_cls.<locals>.new_init\u001b[1;34m(self, *args, **kwargs)\u001b[0m\n\u001b[0;32m    467\u001b[0m \u001b[39m@functools\u001b[39m\u001b[39m.\u001b[39mwraps(original_init)\n\u001b[0;32m    468\u001b[0m \u001b[39mdef\u001b[39;00m \u001b[39mnew_init\u001b[39m(\u001b[39mself\u001b[39m, \u001b[39m*\u001b[39margs, \u001b[39m*\u001b[39m\u001b[39m*\u001b[39mkwargs):\n\u001b[0;32m    469\u001b[0m     args, kwargs \u001b[39m=\u001b[39m _formulate_arguments(original_init, args, kwargs, kw_only, is_class_init\u001b[39m=\u001b[39m\u001b[39mTrue\u001b[39;00m)\n\u001b[1;32m--> 470\u001b[0m     original_init(\n\u001b[0;32m    471\u001b[0m         \u001b[39mself\u001b[39;49m,\n\u001b[0;32m    472\u001b[0m         \u001b[39m*\u001b[39;49m[_argument_processor(arg) \u001b[39mfor\u001b[39;49;00m arg \u001b[39min\u001b[39;49;00m args],\n\u001b[0;32m    473\u001b[0m         \u001b[39m*\u001b[39;49m\u001b[39m*\u001b[39;49m{kw: _argument_processor(arg) \u001b[39mfor\u001b[39;49;00m kw, arg \u001b[39min\u001b[39;49;00m kwargs\u001b[39m.\u001b[39;49mitems()}\n\u001b[0;32m    474\u001b[0m     )\n\u001b[0;32m    475\u001b[0m     inject_trace_info(\u001b[39mself\u001b[39m, base, args, kwargs)\n",
      "Cell \u001b[1;32mIn[5], line 8\u001b[0m, in \u001b[0;36mMySpace.__init__\u001b[1;34m(self, num_node_features, num_classes, hidden)\u001b[0m\n\u001b[0;32m      4\u001b[0m \u001b[39msuper\u001b[39m()\u001b[39m.\u001b[39m\u001b[39m__init__\u001b[39m()\n\u001b[0;32m      5\u001b[0m \u001b[39m#self.conv1 = GCNConv(num_node_features, 16)\u001b[39;00m\n\u001b[0;32m      6\u001b[0m \u001b[39m#self.conv2 = GCNConv(16, num_classes)\u001b[39;00m\n\u001b[0;32m      7\u001b[0m \u001b[39mself\u001b[39m\u001b[39m.\u001b[39mconv1 \u001b[39m=\u001b[39m nn\u001b[39m.\u001b[39mLayerChoice([\n\u001b[1;32m----> 8\u001b[0m     nn\u001b[39m.\u001b[39;49mGATconv(num_node_features, hidden),\n\u001b[0;32m      9\u001b[0m     nn\u001b[39m.\u001b[39mGCNConv(num_node_features, hidden),\n\u001b[0;32m     10\u001b[0m     nn\u001b[39m.\u001b[39mGINconv(num_node_features, hidden),\n\u001b[0;32m     11\u001b[0m     nn\u001b[39m.\u001b[39mChebConv(num_node_features, hidden),\n\u001b[0;32m     12\u001b[0m     nn\u001b[39m.\u001b[39mSAGEConv(num_node_features, hidden)\n\u001b[0;32m     13\u001b[0m ])\n\u001b[0;32m     14\u001b[0m \u001b[39mself\u001b[39m\u001b[39m.\u001b[39mdropout1 \u001b[39m=\u001b[39m nn\u001b[39m.\u001b[39mDropout(nn\u001b[39m.\u001b[39mValueChoice([\u001b[39m0.1\u001b[39m, \u001b[39m0.25\u001b[39m, \u001b[39m0.5\u001b[39m, \u001b[39m0.75\u001b[39m]))  \u001b[39m# choose dropout rate from 0.25, 0.5 and 0.75\u001b[39;00m\n\u001b[0;32m     15\u001b[0m \u001b[39mself\u001b[39m\u001b[39m.\u001b[39mconv2 \u001b[39m=\u001b[39m nn\u001b[39m.\u001b[39mLayerChoice([\n\u001b[0;32m     16\u001b[0m     nn\u001b[39m.\u001b[39mGATconv(hidden, num_classes),\n\u001b[0;32m     17\u001b[0m     nn\u001b[39m.\u001b[39mGCNConv(hidden, num_classes),\n\u001b[1;32m   (...)\u001b[0m\n\u001b[0;32m     20\u001b[0m     nn\u001b[39m.\u001b[39mSAGEConv(hidden, num_classes)\n\u001b[0;32m     21\u001b[0m ])\n",
      "\u001b[1;31mAttributeError\u001b[0m: module 'nni.retiarii.nn.pytorch' has no attribute 'GATconv'"
     ]
    }
   ],
   "source": [
    "my_space = MySpace(dataset.num_node_features, dataset.num_classes)\n",
    "print(my_space)"
   ]
  }
 ],
 "metadata": {
  "kernelspec": {
   "display_name": "mydl",
   "language": "python",
   "name": "python3"
  },
  "language_info": {
   "codemirror_mode": {
    "name": "ipython",
    "version": 3
   },
   "file_extension": ".py",
   "mimetype": "text/x-python",
   "name": "python",
   "nbconvert_exporter": "python",
   "pygments_lexer": "ipython3",
   "version": "3.11.3"
  },
  "orig_nbformat": 4
 },
 "nbformat": 4,
 "nbformat_minor": 2
}
