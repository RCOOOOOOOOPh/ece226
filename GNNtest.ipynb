{
 "cells": [
  {
   "cell_type": "code",
   "execution_count": 1,
   "id": "2ad9111d",
   "metadata": {},
   "outputs": [],
   "source": [
    "import torch\n",
    "#from torch_geometric.datasets import TUDataset\n",
    "from torch_geometric.datasets import Planetoid"
   ]
  },
  {
   "cell_type": "code",
   "execution_count": 2,
   "id": "85bd4240",
   "metadata": {},
   "outputs": [
    {
     "name": "stdout",
     "output_type": "stream",
     "text": [
      "1\n",
      "Data(x=[3327, 3703], edge_index=[2, 9104], y=[3327], train_mask=[3327], val_mask=[3327], test_mask=[3327])\n"
     ]
    }
   ],
   "source": [
    "#dataset = TUDataset(root='/tmp/ENZYMES', name='ENZYMES', use_node_attr=True)\n",
    "dataset = Planetoid(root='/data/CiteSeer', name='CiteSeer')\n",
    "print(len(dataset))\n",
    "data = dataset[0]\n",
    "print(data)"
   ]
  },
  {
   "cell_type": "code",
   "execution_count": 3,
   "id": "890ed861",
   "metadata": {},
   "outputs": [
    {
     "name": "stdout",
     "output_type": "stream",
     "text": [
      "{'name': 'CiteSeer', 'split': 'public', 'root': '\\\\data\\\\CiteSeer', 'transform': None, 'pre_transform': None, 'pre_filter': None, 'log': True, '_indices': None, '_data': Data(x=[3327, 3703], edge_index=[2, 9104], y=[3327], train_mask=[3327], val_mask=[3327], test_mask=[3327]), 'slices': None, '_data_list': None}\n",
      "3703\n",
      "6\n"
     ]
    }
   ],
   "source": [
    "print(dataset.__dict__)\n",
    "print(dataset.num_node_features)\n",
    "print(dataset.num_classes)"
   ]
  },
  {
   "cell_type": "code",
   "execution_count": 4,
   "id": "9eae9b00",
   "metadata": {},
   "outputs": [],
   "source": [
    "import torch.nn.functional as F\n",
    "from torch_geometric.nn import GCNConv\n",
    "    \n",
    "class GCN(torch.nn.Module):\n",
    "    def __init__(self, num_node_features, num_classes):\n",
    "        super(GCN, self).__init__()\n",
    "        self.conv1 = GCNConv(num_node_features, 16)\n",
    "        self.conv2 = GCNConv(16, num_classes)\n",
    "\n",
    "    def forward(self, data):\n",
    "        # for DataBatch(edge_index=[2, 3814], x=[1058, 21], y=[32], batch=[1058], ptr=[33])\n",
    "        x, edge_index = data.x, data.edge_index\n",
    "        #print(x.shape, edge_index.shape)#torch.Size([1058, 21]) torch.Size([2, 3814])\n",
    "        x = self.conv1(x, edge_index)\n",
    "        #print(x.shape)#torch.Size([1058, 16])\n",
    "        x = F.relu(x)\n",
    "        x = F.dropout(x, training=self.training)\n",
    "        x = self.conv2(x, edge_index)\n",
    "        #print(x.shape)#torch.Size([1058, 6])\n",
    "        x = F.relu(x)\n",
    "        x = F.dropout(x, training=self.training)\n",
    "        x = F.softmax(x, dim=1)\n",
    "        #print(x.shape)#torch.Size([1058, 6])\n",
    "\n",
    "        return x"
   ]
  },
  {
   "cell_type": "code",
   "execution_count": 5,
   "id": "a598feab",
   "metadata": {},
   "outputs": [
    {
     "name": "stdout",
     "output_type": "stream",
     "text": [
      "cuda\n"
     ]
    }
   ],
   "source": [
    "device = torch.device('cuda' if torch.cuda.is_available() else 'cpu')\n",
    "print(device)"
   ]
  },
  {
   "cell_type": "code",
   "execution_count": 6,
   "id": "b279f5d2",
   "metadata": {},
   "outputs": [
    {
     "name": "stdout",
     "output_type": "stream",
     "text": [
      "GCN(\n",
      "  (conv1): GCNConv(3703, 16)\n",
      "  (conv2): GCNConv(16, 6)\n",
      ")\n"
     ]
    }
   ],
   "source": [
    "model = GCN(dataset.num_node_features, dataset.num_classes).to(device)\n",
    "print(model)"
   ]
  },
  {
   "cell_type": "code",
   "execution_count": 7,
   "id": "3f5abbc4",
   "metadata": {},
   "outputs": [
    {
     "name": "stdout",
     "output_type": "stream",
     "text": [
      "torch.Size([3327, 6])\n"
     ]
    }
   ],
   "source": [
    "data = data.to(device)\n",
    "print(model(data).shape)"
   ]
  },
  {
   "cell_type": "code",
   "execution_count": 10,
   "id": "143c8004",
   "metadata": {},
   "outputs": [
    {
     "name": "stdout",
     "output_type": "stream",
     "text": [
      "epoch 0, loss = 1.792516827583313\n",
      "epoch 10, loss = 1.6065056324005127\n",
      "epoch 20, loss = 1.5974278450012207\n",
      "epoch 30, loss = 1.5143815279006958\n",
      "epoch 40, loss = 1.5515694618225098\n",
      "epoch 50, loss = 1.4985278844833374\n",
      "epoch 60, loss = 1.51370108127594\n",
      "epoch 70, loss = 1.4901561737060547\n",
      "epoch 80, loss = 1.5015966892242432\n",
      "epoch 90, loss = 1.5003330707550049\n",
      "epoch 100, loss = 1.5483660697937012\n",
      "epoch 110, loss = 1.4799721240997314\n",
      "epoch 120, loss = 1.4585894346237183\n",
      "epoch 130, loss = 1.5595239400863647\n",
      "epoch 140, loss = 1.4629915952682495\n",
      "epoch 150, loss = 1.4373215436935425\n",
      "epoch 160, loss = 1.5381466150283813\n",
      "epoch 170, loss = 1.4860122203826904\n",
      "epoch 180, loss = 1.5363868474960327\n",
      "epoch 190, loss = 1.5450108051300049\n"
     ]
    }
   ],
   "source": [
    "optimizer = torch.optim.Adam(model.parameters(), lr=0.01, weight_decay=5e-4)\n",
    "loss_function = torch.nn.CrossEntropyLoss().to(device)\n",
    "model.train()\n",
    "for epoch in range(200):\n",
    "    optimizer.zero_grad()\n",
    "    out = model(data)\n",
    "    loss = loss_function(out[data.train_mask], data.y[data.train_mask])\n",
    "    loss.backward()\n",
    "    optimizer.step()\n",
    "    if epoch % 10 == 0:\n",
    "        print(\"epoch {}, loss = {}\".format(epoch, loss))"
   ]
  },
  {
   "cell_type": "code",
   "execution_count": 11,
   "id": "83a92c23",
   "metadata": {},
   "outputs": [
    {
     "name": "stdout",
     "output_type": "stream",
     "text": [
      "Accuracy: 0.5850\n"
     ]
    }
   ],
   "source": [
    "model.eval()\n",
    "pred = model(data).argmax(dim=1)\n",
    "correct = (pred[data.test_mask] == data.y[data.test_mask]).sum()\n",
    "acc = int(correct) / int(data.test_mask.sum())\n",
    "print(f'Accuracy: {acc:.4f}')"
   ]
  }
 ],
 "metadata": {
  "kernelspec": {
   "display_name": "Python 3 (ipykernel)",
   "language": "python",
   "name": "python3"
  },
  "language_info": {
   "codemirror_mode": {
    "name": "ipython",
    "version": 3
   },
   "file_extension": ".py",
   "mimetype": "text/x-python",
   "name": "python",
   "nbconvert_exporter": "python",
   "pygments_lexer": "ipython3",
   "version": "3.11.3"
  }
 },
 "nbformat": 4,
 "nbformat_minor": 5
}
