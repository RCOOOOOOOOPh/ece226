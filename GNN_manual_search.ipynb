{
 "cells": [
  {
   "cell_type": "code",
   "execution_count": 1,
   "metadata": {},
   "outputs": [
    {
     "name": "stdout",
     "output_type": "stream",
     "text": [
      "cuda\n"
     ]
    }
   ],
   "source": [
    "import torch\n",
    "device = torch.device('cuda' if torch.cuda.is_available() else 'cpu')\n",
    "print(device)"
   ]
  },
  {
   "cell_type": "code",
   "execution_count": 2,
   "metadata": {},
   "outputs": [
    {
     "name": "stdout",
     "output_type": "stream",
     "text": [
      "1\n",
      "Data(x=[3327, 3703], edge_index=[2, 9104], y=[3327], train_mask=[3327], val_mask=[3327], test_mask=[3327])\n"
     ]
    }
   ],
   "source": [
    "from torch_geometric.datasets import Planetoid\n",
    "dataset = Planetoid(root='/data/CiteSeer', name='CiteSeer')\n",
    "print(len(dataset))\n",
    "data = dataset[0]\n",
    "data = data.to(device)\n",
    "print(data)"
   ]
  },
  {
   "cell_type": "code",
   "execution_count": 3,
   "metadata": {},
   "outputs": [],
   "source": [
    "def eval_model(model, myprint=False):\n",
    "    model = model.to(device)\n",
    "    optimizer = torch.optim.Adam(model.parameters(), lr=0.01, weight_decay=5e-4)\n",
    "    loss_function = torch.nn.CrossEntropyLoss().to(device)\n",
    "    model.train()\n",
    "    for epoch in range(400):\n",
    "        optimizer.zero_grad()\n",
    "        out = model(data)\n",
    "        loss = loss_function(out[data.train_mask], data.y[data.train_mask])\n",
    "        loss.backward()\n",
    "        optimizer.step()\n",
    "        if myprint and epoch % 50 == 0:\n",
    "            print(\"epoch {}, loss = {}\".format(epoch, loss))\n",
    "    model.eval()\n",
    "    pred = model(data).argmax(dim=1)\n",
    "    correct = (pred[data.val_mask] == data.y[data.val_mask]).sum()\n",
    "    acc = int(correct) / int(data.val_mask.sum())\n",
    "    if myprint:\n",
    "        print(f'Accuracy: {acc:.4f}')\n",
    "    return acc"
   ]
  },
  {
   "cell_type": "code",
   "execution_count": 4,
   "metadata": {},
   "outputs": [],
   "source": [
    "import torch.nn.functional as F\n",
    "from torch_geometric.nn import GCNConv\n",
    "    \n",
    "class GCN(torch.nn.Module):\n",
    "    def __init__(self, num_node_features, num_classes):\n",
    "        super(GCN, self).__init__()\n",
    "        self.conv1 = GCNConv(num_node_features, 16)\n",
    "        self.conv2 = GCNConv(16, num_classes)\n",
    "\n",
    "    def forward(self, data):\n",
    "        x, edge_index = data.x, data.edge_index\n",
    "        x = self.conv1(x, edge_index)\n",
    "        x = F.relu(x)\n",
    "        x = F.dropout(x, training=self.training)\n",
    "        x = self.conv2(x, edge_index)\n",
    "        x = F.relu(x)\n",
    "        x = F.dropout(x, training=self.training)\n",
    "        x = F.softmax(x, dim=1)\n",
    "\n",
    "        return x"
   ]
  },
  {
   "cell_type": "code",
   "execution_count": 6,
   "metadata": {},
   "outputs": [
    {
     "name": "stdout",
     "output_type": "stream",
     "text": [
      "epoch 0, loss = 1.7914729118347168\n",
      "epoch 50, loss = 1.4141508340835571\n",
      "epoch 100, loss = 1.3998398780822754\n",
      "epoch 150, loss = 1.4621336460113525\n",
      "epoch 200, loss = 1.4432032108306885\n",
      "epoch 250, loss = 1.4105377197265625\n",
      "epoch 300, loss = 1.452028751373291\n",
      "epoch 350, loss = 1.381689429283142\n",
      "Accuracy: 0.6840\n"
     ]
    },
    {
     "data": {
      "text/plain": [
       "0.684"
      ]
     },
     "execution_count": 6,
     "metadata": {},
     "output_type": "execute_result"
    }
   ],
   "source": [
    "myGCN = GCN(dataset.num_node_features, dataset.num_classes)\n",
    "eval_model(myGCN, myprint=True)"
   ]
  },
  {
   "cell_type": "code",
   "execution_count": 9,
   "metadata": {},
   "outputs": [],
   "source": [
    "class GCN_tryhidden(torch.nn.Module):\n",
    "    def __init__(self, hidden, num_node_features=dataset.num_node_features, num_classes=dataset.num_classes):\n",
    "        super(GCN_tryhidden, self).__init__()\n",
    "        self.conv1 = GCNConv(num_node_features, hidden)\n",
    "        self.conv2 = GCNConv(hidden, num_classes)\n",
    "\n",
    "    def forward(self, data):\n",
    "        x, edge_index = data.x, data.edge_index\n",
    "        x = self.conv1(x, edge_index)\n",
    "        x = F.relu(x)\n",
    "        x = F.dropout(x, training=self.training)\n",
    "        x = self.conv2(x, edge_index)\n",
    "        x = F.relu(x)\n",
    "        x = F.dropout(x, training=self.training)\n",
    "        x = F.softmax(x, dim=1)\n",
    "\n",
    "        return x"
   ]
  },
  {
   "cell_type": "code",
   "execution_count": 10,
   "metadata": {},
   "outputs": [
    {
     "name": "stdout",
     "output_type": "stream",
     "text": [
      "hidden size = 10, validation accuracy = 67.40%\n",
      "hidden size = 20, validation accuracy = 66.60%\n",
      "hidden size = 30, validation accuracy = 67.80%\n",
      "hidden size = 40, validation accuracy = 66.80%\n",
      "hidden size = 50, validation accuracy = 66.80%\n"
     ]
    }
   ],
   "source": [
    "hidden = [10, 20, 30, 40, 50]\n",
    "accs = []\n",
    "for h in hidden:\n",
    "    myGCN = GCN_tryhidden(h)\n",
    "    acc = eval_model(myGCN)\n",
    "    print(\"hidden size = {}, validation accuracy = {:.2%}\".format(h, acc))\n",
    "    accs.append(acc)"
   ]
  }
 ],
 "metadata": {
  "kernelspec": {
   "display_name": "mydl",
   "language": "python",
   "name": "python3"
  },
  "language_info": {
   "codemirror_mode": {
    "name": "ipython",
    "version": 3
   },
   "file_extension": ".py",
   "mimetype": "text/x-python",
   "name": "python",
   "nbconvert_exporter": "python",
   "pygments_lexer": "ipython3",
   "version": "3.11.3"
  },
  "orig_nbformat": 4
 },
 "nbformat": 4,
 "nbformat_minor": 2
}
